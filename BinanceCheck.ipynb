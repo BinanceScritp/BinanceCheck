{
 "cells": [
  {
   "cell_type": "code",
   "execution_count": null,
   "id": "6020b4af",
   "metadata": {},
   "outputs": [],
   "source": [
    "Install Pandas"
   ]
  },
  {
   "cell_type": "code",
   "execution_count": null,
   "id": "8f79bd5d",
   "metadata": {},
   "outputs": [],
   "source": [
    "Install ccxt"
   ]
  },
  {
   "cell_type": "code",
   "execution_count": 1,
   "id": "3385c1de",
   "metadata": {},
   "outputs": [],
   "source": [
    "import pandas as pd\n",
    "import time\n",
    "from datetime import datetime\n",
    "import math\n",
    "import ccxt\n",
    "import json"
   ]
  },
  {
   "cell_type": "code",
   "execution_count": 2,
   "id": "e2266c83",
   "metadata": {},
   "outputs": [],
   "source": [
    "exchange_id = 'binance'\n",
    "exchange_class = getattr(ccxt, exchange_id)\n",
    "\n",
    "exchange = exchange_class({\n",
    "     \"apiKey\": \"PasteYouAPI\",\n",
    "    \"secret\": \"PasteSecretKey\",\n",
    "})"
   ]
  },
  {
   "cell_type": "code",
   "execution_count": 3,
   "id": "5f65840b",
   "metadata": {
    "scrolled": true
   },
   "outputs": [],
   "source": [
    "markets = exchange.fetchMarkets()\n",
    "market_symbols = [market['symbol'] for market in markets if market['type']=='spot']"
   ]
  },
  {
   "cell_type": "code",
   "execution_count": 4,
   "id": "fd51a73c",
   "metadata": {},
   "outputs": [],
   "source": [
    "def create_chain(base_currency, token1, token2, buy_t1, buy_t2_by_t1, sell_t2, res):   \n",
    "    return {\n",
    "        'base': base_currency, # USDT                 \n",
    "        'token1':token1,      # BTC                 \n",
    "        'token2':token2,      # ETH       \n",
    "        'buy_t1': buy_t1,     \n",
    "        'buy_t2_by_t1': buy_t2_by_t1,       \n",
    "        'sell_t2': sell_t2,\n",
    "        'Result' : res\n",
    "    }\n",
    "    \n",
    "\n",
    "def get_chains(market_symbols, quotes, base_currency='USDT'):\n",
    "    chains = []\n",
    "\n",
    "    for symbol in market_symbols:\n",
    "        try:\n",
    "            token1 = symbol.split('/')[0] \n",
    "            token2 = symbol.split('/')[1]\n",
    "            #ищем промежуточное звено треугольника и проверяем результат в 2 стороны\n",
    "            if (token1!=base_currency and token2!=base_currency):\n",
    "                start = quotes[f'{token1}/{base_currency}']\n",
    "                middle = quotes[f'{token1}/{token2}']\n",
    "                finish = quotes[f'{token2}/{base_currency}']\n",
    "                if  start['ask']!=0 and start['bid']!=0 and middle['ask']!=0 and middle['bid']!=0 and finish['ask']!=0 and finish['bid']!=0:\n",
    "                    #USDT-ETH-BTC\n",
    "                    chains.append(\n",
    "                                create_chain(\n",
    "                                    base_currency, #USDT\n",
    "                                    token1,        #ETH\n",
    "                                    token2,        #BTC\n",
    "                                    start['ask'],  #ETH/USDT ASK\n",
    "                                    middle['bid'], #ETH/BTC BID\n",
    "                                    finish['bid'], #BTC/USDT BID\n",
    "                                    float(100.0*middle['bid']*finish['bid']/start['ask']-100.0)\n",
    "                                )\n",
    "                    )\n",
    "                    #USDT-BTC-ETH\n",
    "                    chains.append(\n",
    "                                create_chain(\n",
    "                                    base_currency, #USDT\n",
    "                                    token2,        #BTC\n",
    "                                    token1,        #ETH\n",
    "                                    finish['ask'], #BTC/USDT ASK\n",
    "                                    middle['ask'], ##ETH/BTC ASK\n",
    "                                    start['bid'],  #ETH/USDT BID\n",
    "                                    float(100.0*start['bid']/finish['ask']/middle['ask']-100.0)\n",
    "                                )\n",
    "                   )\n",
    "\n",
    "        except KeyError:\n",
    "            pass\n",
    "    return pd.DataFrame(chains)\n"
   ]
  },
  {
   "cell_type": "code",
   "execution_count": 5,
   "id": "89b0964f",
   "metadata": {
    "scrolled": false
   },
   "outputs": [
    {
     "name": "stdout",
     "output_type": "stream",
     "text": [
      "Time-23:42:40\n",
      "     base token1 token2  buy_t1  buy_t2_by_t1  sell_t2    Result\n",
      "758  USDT  ALPHA    BNB  0.1342      0.000449    299.6  0.238748\n",
      "Time-23:49:28\n",
      "     base token1 token2  buy_t1  buy_t2_by_t1  sell_t2    Result\n",
      "171  USDT    ETH    BLZ  1683.0      0.000078   0.1315  0.740438\n",
      "Time-23:49:37\n",
      "     base token1 token2  buy_t1  buy_t2_by_t1   sell_t2    Result\n",
      "168  USDT    BLZ    BTC  0.1254      0.000006  21710.71  0.416362\n",
      "Time-23:49:44\n",
      "     base token1 token2  buy_t1  buy_t2_by_t1  sell_t2    Result\n",
      "615  USDT   BUSD    BLZ     1.0        0.1376    0.138  0.290698\n",
      "Time-23:50:51\n",
      "     base token1 token2   buy_t1  buy_t2_by_t1  sell_t2    Result\n",
      "169  USDT    BTC    BLZ  21723.5      0.000007   0.1577  0.545977\n",
      "Time-23:51:40\n",
      "     base token1 token2  buy_t1  buy_t2_by_t1  sell_t2   Result\n",
      "614  USDT    BLZ   BUSD  0.1778        0.1812   0.9999  1.90207\n",
      "Time-23:51:57\n",
      "     base token1 token2  buy_t1  buy_t2_by_t1  sell_t2    Result\n",
      "615  USDT   BUSD    BLZ     1.0        0.1842   0.1846  0.217155\n",
      "Time-23:53:34\n",
      "     base token1 token2  buy_t1  buy_t2_by_t1  sell_t2    Result\n",
      "614  USDT    BLZ   BUSD  0.1674        0.1679   0.9999  0.288656\n",
      "Time-23:54:20\n",
      "     base token1 token2    buy_t1  buy_t2_by_t1  sell_t2    Result\n",
      "615  USDT   BUSD    BLZ      1.00      0.160500   0.1616  0.685358\n",
      "171  USDT    ETH    BLZ   1683.14      0.000096   0.1616  0.535107\n",
      "169  USDT    BTC    BLZ  21704.96      0.000007   0.1616  0.476421\n",
      "Time-23:54:48\n",
      "     base token1 token2  buy_t1  buy_t2_by_t1  sell_t2    Result\n",
      "158  USDT    RLC    ETH    1.68      0.001001  1683.34  0.299008\n",
      "Time-23:55:09\n",
      "     base token1 token2  buy_t1  buy_t2_by_t1  sell_t2    Result\n",
      "676  USDT    TRB   BUSD   38.77         38.88   0.9999  0.273696\n",
      "Time-23:55:34\n",
      "     base token1 token2  buy_t1  buy_t2_by_t1  sell_t2    Result\n",
      "614  USDT    BLZ   BUSD  0.1593        0.1601   0.9999  0.492147\n",
      "Time-23:57:35\n",
      "     base token1 token2    buy_t1  buy_t2_by_t1  sell_t2    Result\n",
      "687  USDT    BTC   YFII  21694.86        0.0477   1037.4  0.246914\n",
      "Time-23:57:36\n",
      "     base token1 token2    buy_t1  buy_t2_by_t1  sell_t2    Result\n",
      "687  USDT    BTC   YFII  21697.06        0.0477   1037.5  0.246412\n",
      "Time-23:57:37\n",
      "     base token1 token2    buy_t1  buy_t2_by_t1  sell_t2    Result\n",
      "687  USDT    BTC   YFII  21695.82        0.0477   1037.5  0.252141\n",
      "Time-23:57:39\n",
      "     base token1 token2    buy_t1  buy_t2_by_t1  sell_t2    Result\n",
      "687  USDT    BTC   YFII  21696.49        0.0477   1037.4  0.239383\n",
      "Time-23:57:40\n",
      "     base token1 token2    buy_t1  buy_t2_by_t1  sell_t2    Result\n",
      "687  USDT    BTC   YFII  21696.34        0.0477   1037.4  0.240076\n"
     ]
    },
    {
     "ename": "KeyboardInterrupt",
     "evalue": "",
     "output_type": "error",
     "traceback": [
      "\u001b[1;31m---------------------------------------------------------------------------\u001b[0m",
      "\u001b[1;31mKeyboardInterrupt\u001b[0m                         Traceback (most recent call last)",
      "Input \u001b[1;32mIn [5]\u001b[0m, in \u001b[0;36m<cell line: 2>\u001b[1;34m()\u001b[0m\n\u001b[0;32m      7\u001b[0m     \u001b[38;5;28mprint\u001b[39m(\u001b[38;5;124mf\u001b[39m\u001b[38;5;124m\"\u001b[39m\u001b[38;5;124mTime-\u001b[39m\u001b[38;5;132;01m{\u001b[39;00mdatetime\u001b[38;5;241m.\u001b[39mnow()\u001b[38;5;241m.\u001b[39mstrftime(\u001b[38;5;124m'\u001b[39m\u001b[38;5;124m%\u001b[39m\u001b[38;5;124mH:\u001b[39m\u001b[38;5;124m%\u001b[39m\u001b[38;5;124mM:\u001b[39m\u001b[38;5;124m%\u001b[39m\u001b[38;5;124mS\u001b[39m\u001b[38;5;124m'\u001b[39m)\u001b[38;5;132;01m}\u001b[39;00m\u001b[38;5;124m\"\u001b[39m)\n\u001b[0;32m      8\u001b[0m     \u001b[38;5;28mprint\u001b[39m(profit)\n\u001b[1;32m----> 9\u001b[0m \u001b[43mtime\u001b[49m\u001b[38;5;241;43m.\u001b[39;49m\u001b[43msleep\u001b[49m\u001b[43m(\u001b[49m\u001b[38;5;241;43m1\u001b[39;49m\u001b[43m)\u001b[49m\n",
      "\u001b[1;31mKeyboardInterrupt\u001b[0m: "
     ]
    }
   ],
   "source": [
    "while(1):    \n",
    "    quotes = exchange.fetchBidsAsks()\n",
    "    chains = get_chains(market_symbols, quotes, 'USDT')\n",
    "    sorted_chains = chains.sort_values(by='Result', ascending=False)\n",
    "    profit = sorted_chains.loc[sorted_chains['Result']>0.2]\n",
    "    if not profit.empty:\n",
    "        print(f\"Time-{datetime.now().strftime('%H:%M:%S')}\")\n",
    "        print(profit)\n",
    "    time.sleep(1)"
   ]
  },
  {
   "cell_type": "code",
   "execution_count": null,
   "id": "89c37009",
   "metadata": {
    "scrolled": true
   },
   "outputs": [],
   "source": [
    "#token1 - token2\n",
    "100.0*0.674300*1.0008/0.67410-100.0"
   ]
  },
  {
   "cell_type": "code",
   "execution_count": null,
   "id": "c52e617b",
   "metadata": {
    "scrolled": true
   },
   "outputs": [],
   "source": [
    "#token2 - token1\n",
    "100.0*0.513/19727.1600/0.000026-100.0"
   ]
  },
  {
   "cell_type": "code",
   "execution_count": null,
   "id": "982e0978",
   "metadata": {},
   "outputs": [],
   "source": []
  }
 ],
 "metadata": {
  "kernelspec": {
   "display_name": "Python 3 (ipykernel)",
   "language": "python",
   "name": "python3"
  },
  "language_info": {
   "codemirror_mode": {
    "name": "ipython",
    "version": 3
   },
   "file_extension": ".py",
   "mimetype": "text/x-python",
   "name": "python",
   "nbconvert_exporter": "python",
   "pygments_lexer": "ipython3",
   "version": "3.9.12"
  }
 },
 "nbformat": 4,
 "nbformat_minor": 5
}
